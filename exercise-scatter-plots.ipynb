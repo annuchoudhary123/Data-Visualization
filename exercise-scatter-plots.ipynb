{
 "cells": [
  {
   "cell_type": "markdown",
   "id": "271fc721",
   "metadata": {
    "papermill": {
     "duration": 0.037067,
     "end_time": "2022-05-13T19:00:25.111627",
     "exception": false,
     "start_time": "2022-05-13T19:00:25.074560",
     "status": "completed"
    },
    "tags": []
   },
   "source": [
    "**This notebook is an exercise in the [Data Visualization](https://www.kaggle.com/learn/data-visualization) course.  You can reference the tutorial at [this link](https://www.kaggle.com/alexisbcook/scatter-plots).**\n",
    "\n",
    "---\n"
   ]
  },
  {
   "cell_type": "markdown",
   "id": "6a5c4582",
   "metadata": {
    "papermill": {
     "duration": 0.034784,
     "end_time": "2022-05-13T19:00:25.182840",
     "exception": false,
     "start_time": "2022-05-13T19:00:25.148056",
     "status": "completed"
    },
    "tags": []
   },
   "source": [
    "In this exercise, you will use your new knowledge to propose a solution to a real-world scenario.  To succeed, you will need to import data into Python, answer questions using the data, and generate **scatter plots** to understand patterns in the data.\n",
    "\n",
    "## Scenario\n",
    "\n",
    "You work for a major candy producer, and your goal is to write a report that your company can use to guide the design of its next product.  Soon after starting your research, you stumble across this [very interesting dataset](https://fivethirtyeight.com/features/the-ultimate-halloween-candy-power-ranking/) containing results from a fun survey to crowdsource favorite candies.\n",
    "\n",
    "## Setup\n",
    "\n",
    "Run the next cell to import and configure the Python libraries that you need to complete the exercise."
   ]
  },
  {
   "cell_type": "code",
   "execution_count": 1,
   "id": "d27afcd0",
   "metadata": {
    "execution": {
     "iopub.execute_input": "2022-05-13T19:00:25.255315Z",
     "iopub.status.busy": "2022-05-13T19:00:25.254407Z",
     "iopub.status.idle": "2022-05-13T19:00:26.349879Z",
     "shell.execute_reply": "2022-05-13T19:00:26.348933Z"
    },
    "papermill": {
     "duration": 1.134546,
     "end_time": "2022-05-13T19:00:26.352615",
     "exception": false,
     "start_time": "2022-05-13T19:00:25.218069",
     "status": "completed"
    },
    "tags": []
   },
   "outputs": [
    {
     "name": "stdout",
     "output_type": "stream",
     "text": [
      "Setup Complete\n"
     ]
    }
   ],
   "source": [
    "import pandas as pd\n",
    "pd.plotting.register_matplotlib_converters()\n",
    "import matplotlib.pyplot as plt\n",
    "%matplotlib inline\n",
    "import seaborn as sns\n",
    "print(\"Setup Complete\")"
   ]
  },
  {
   "cell_type": "markdown",
   "id": "0bf747c1",
   "metadata": {
    "papermill": {
     "duration": 0.037344,
     "end_time": "2022-05-13T19:00:26.429349",
     "exception": false,
     "start_time": "2022-05-13T19:00:26.392005",
     "status": "completed"
    },
    "tags": []
   },
   "source": [
    "The questions below will give you feedback on your work. Run the following cell to set up our feedback system."
   ]
  },
  {
   "cell_type": "code",
   "execution_count": 2,
   "id": "d4d67fcd",
   "metadata": {
    "execution": {
     "iopub.execute_input": "2022-05-13T19:00:26.503733Z",
     "iopub.status.busy": "2022-05-13T19:00:26.503405Z",
     "iopub.status.idle": "2022-05-13T19:00:26.571551Z",
     "shell.execute_reply": "2022-05-13T19:00:26.570350Z"
    },
    "papermill": {
     "duration": 0.108512,
     "end_time": "2022-05-13T19:00:26.574116",
     "exception": false,
     "start_time": "2022-05-13T19:00:26.465604",
     "status": "completed"
    },
    "tags": []
   },
   "outputs": [
    {
     "name": "stdout",
     "output_type": "stream",
     "text": [
      "Setup Complete\n"
     ]
    }
   ],
   "source": [
    "# Set up code checking\n",
    "import os\n",
    "if not os.path.exists(\"../input/candy.csv\"):\n",
    "    os.symlink(\"../input/data-for-datavis/candy.csv\", \"../input/candy.csv\") \n",
    "from learntools.core import binder\n",
    "binder.bind(globals())\n",
    "from learntools.data_viz_to_coder.ex4 import *\n",
    "print(\"Setup Complete\")"
   ]
  },
  {
   "cell_type": "markdown",
   "id": "2a1e9f14",
   "metadata": {
    "papermill": {
     "duration": 0.036776,
     "end_time": "2022-05-13T19:00:26.648203",
     "exception": false,
     "start_time": "2022-05-13T19:00:26.611427",
     "status": "completed"
    },
    "tags": []
   },
   "source": [
    "## Step 1: Load the Data\n",
    "\n",
    "Read the candy data file into `candy_data`.  Use the `\"id\"` column to label the rows."
   ]
  },
  {
   "cell_type": "code",
   "execution_count": 3,
   "id": "2c420fc8",
   "metadata": {
    "execution": {
     "iopub.execute_input": "2022-05-13T19:00:26.723622Z",
     "iopub.status.busy": "2022-05-13T19:00:26.722998Z",
     "iopub.status.idle": "2022-05-13T19:00:26.737180Z",
     "shell.execute_reply": "2022-05-13T19:00:26.736550Z"
    },
    "papermill": {
     "duration": 0.054605,
     "end_time": "2022-05-13T19:00:26.739134",
     "exception": false,
     "start_time": "2022-05-13T19:00:26.684529",
     "status": "completed"
    },
    "tags": []
   },
   "outputs": [
    {
     "data": {
      "application/javascript": [
       "parent.postMessage({\"jupyterEvent\": \"custom.exercise_interaction\", \"data\": {\"outcomeType\": 1, \"valueTowardsCompletion\": 0.3333333333333333, \"interactionType\": 1, \"questionType\": 1, \"questionId\": \"1_LoadData\", \"learnToolsVersion\": \"0.3.4\", \"failureMessage\": \"\", \"exceptionClass\": \"\", \"trace\": \"\"}}, \"*\")"
      ],
      "text/plain": [
       "<IPython.core.display.Javascript object>"
      ]
     },
     "metadata": {},
     "output_type": "display_data"
    },
    {
     "data": {
      "text/markdown": [
       "<span style=\"color:#33cc33\">Correct</span>"
      ],
      "text/plain": [
       "Correct"
      ]
     },
     "metadata": {},
     "output_type": "display_data"
    }
   ],
   "source": [
    "# Path of the file to read\n",
    "candy_filepath = \"../input/candy.csv\"\n",
    "\n",
    "# Fill in the line below to read the file into a variable candy_data\n",
    "candy_data = pd.read_csv(candy_filepath, index_col= 'id')\n",
    "\n",
    "# Run the line below with no changes to check that you've loaded the data correctly\n",
    "step_1.check()"
   ]
  },
  {
   "cell_type": "code",
   "execution_count": 4,
   "id": "e65fc4e7",
   "metadata": {
    "execution": {
     "iopub.execute_input": "2022-05-13T19:00:26.816509Z",
     "iopub.status.busy": "2022-05-13T19:00:26.815907Z",
     "iopub.status.idle": "2022-05-13T19:00:26.819167Z",
     "shell.execute_reply": "2022-05-13T19:00:26.818523Z"
    },
    "papermill": {
     "duration": 0.044207,
     "end_time": "2022-05-13T19:00:26.821139",
     "exception": false,
     "start_time": "2022-05-13T19:00:26.776932",
     "status": "completed"
    },
    "tags": []
   },
   "outputs": [],
   "source": [
    "# Lines below will give you a hint or solution code\n",
    "#step_1.hint()\n",
    "#step_1.solution()"
   ]
  },
  {
   "cell_type": "markdown",
   "id": "e1641ed4",
   "metadata": {
    "papermill": {
     "duration": 0.037659,
     "end_time": "2022-05-13T19:00:26.896150",
     "exception": false,
     "start_time": "2022-05-13T19:00:26.858491",
     "status": "completed"
    },
    "tags": []
   },
   "source": [
    "## Step 2: Review the data\n",
    "\n",
    "Use a Python command to print the first five rows of the data."
   ]
  },
  {
   "cell_type": "code",
   "execution_count": 5,
   "id": "867c3dcc",
   "metadata": {
    "execution": {
     "iopub.execute_input": "2022-05-13T19:00:26.973935Z",
     "iopub.status.busy": "2022-05-13T19:00:26.973416Z",
     "iopub.status.idle": "2022-05-13T19:00:26.994618Z",
     "shell.execute_reply": "2022-05-13T19:00:26.993806Z"
    },
    "papermill": {
     "duration": 0.061593,
     "end_time": "2022-05-13T19:00:26.996618",
     "exception": false,
     "start_time": "2022-05-13T19:00:26.935025",
     "status": "completed"
    },
    "tags": []
   },
   "outputs": [
    {
     "data": {
      "text/html": [
       "<div>\n",
       "<style scoped>\n",
       "    .dataframe tbody tr th:only-of-type {\n",
       "        vertical-align: middle;\n",
       "    }\n",
       "\n",
       "    .dataframe tbody tr th {\n",
       "        vertical-align: top;\n",
       "    }\n",
       "\n",
       "    .dataframe thead th {\n",
       "        text-align: right;\n",
       "    }\n",
       "</style>\n",
       "<table border=\"1\" class=\"dataframe\">\n",
       "  <thead>\n",
       "    <tr style=\"text-align: right;\">\n",
       "      <th></th>\n",
       "      <th>competitorname</th>\n",
       "      <th>chocolate</th>\n",
       "      <th>fruity</th>\n",
       "      <th>caramel</th>\n",
       "      <th>peanutyalmondy</th>\n",
       "      <th>nougat</th>\n",
       "      <th>crispedricewafer</th>\n",
       "      <th>hard</th>\n",
       "      <th>bar</th>\n",
       "      <th>pluribus</th>\n",
       "      <th>sugarpercent</th>\n",
       "      <th>pricepercent</th>\n",
       "      <th>winpercent</th>\n",
       "    </tr>\n",
       "    <tr>\n",
       "      <th>id</th>\n",
       "      <th></th>\n",
       "      <th></th>\n",
       "      <th></th>\n",
       "      <th></th>\n",
       "      <th></th>\n",
       "      <th></th>\n",
       "      <th></th>\n",
       "      <th></th>\n",
       "      <th></th>\n",
       "      <th></th>\n",
       "      <th></th>\n",
       "      <th></th>\n",
       "      <th></th>\n",
       "    </tr>\n",
       "  </thead>\n",
       "  <tbody>\n",
       "    <tr>\n",
       "      <th>0</th>\n",
       "      <td>100 Grand</td>\n",
       "      <td>Yes</td>\n",
       "      <td>No</td>\n",
       "      <td>Yes</td>\n",
       "      <td>No</td>\n",
       "      <td>No</td>\n",
       "      <td>Yes</td>\n",
       "      <td>No</td>\n",
       "      <td>Yes</td>\n",
       "      <td>No</td>\n",
       "      <td>0.732</td>\n",
       "      <td>0.860</td>\n",
       "      <td>66.971725</td>\n",
       "    </tr>\n",
       "    <tr>\n",
       "      <th>1</th>\n",
       "      <td>3 Musketeers</td>\n",
       "      <td>Yes</td>\n",
       "      <td>No</td>\n",
       "      <td>No</td>\n",
       "      <td>No</td>\n",
       "      <td>Yes</td>\n",
       "      <td>No</td>\n",
       "      <td>No</td>\n",
       "      <td>Yes</td>\n",
       "      <td>No</td>\n",
       "      <td>0.604</td>\n",
       "      <td>0.511</td>\n",
       "      <td>67.602936</td>\n",
       "    </tr>\n",
       "    <tr>\n",
       "      <th>2</th>\n",
       "      <td>Air Heads</td>\n",
       "      <td>No</td>\n",
       "      <td>Yes</td>\n",
       "      <td>No</td>\n",
       "      <td>No</td>\n",
       "      <td>No</td>\n",
       "      <td>No</td>\n",
       "      <td>No</td>\n",
       "      <td>No</td>\n",
       "      <td>No</td>\n",
       "      <td>0.906</td>\n",
       "      <td>0.511</td>\n",
       "      <td>52.341465</td>\n",
       "    </tr>\n",
       "    <tr>\n",
       "      <th>3</th>\n",
       "      <td>Almond Joy</td>\n",
       "      <td>Yes</td>\n",
       "      <td>No</td>\n",
       "      <td>No</td>\n",
       "      <td>Yes</td>\n",
       "      <td>No</td>\n",
       "      <td>No</td>\n",
       "      <td>No</td>\n",
       "      <td>Yes</td>\n",
       "      <td>No</td>\n",
       "      <td>0.465</td>\n",
       "      <td>0.767</td>\n",
       "      <td>50.347546</td>\n",
       "    </tr>\n",
       "    <tr>\n",
       "      <th>4</th>\n",
       "      <td>Baby Ruth</td>\n",
       "      <td>Yes</td>\n",
       "      <td>No</td>\n",
       "      <td>Yes</td>\n",
       "      <td>Yes</td>\n",
       "      <td>Yes</td>\n",
       "      <td>No</td>\n",
       "      <td>No</td>\n",
       "      <td>Yes</td>\n",
       "      <td>No</td>\n",
       "      <td>0.604</td>\n",
       "      <td>0.767</td>\n",
       "      <td>56.914547</td>\n",
       "    </tr>\n",
       "  </tbody>\n",
       "</table>\n",
       "</div>"
      ],
      "text/plain": [
       "   competitorname chocolate fruity caramel peanutyalmondy nougat  \\\n",
       "id                                                                 \n",
       "0       100 Grand       Yes     No     Yes             No     No   \n",
       "1    3 Musketeers       Yes     No      No             No    Yes   \n",
       "2       Air Heads        No    Yes      No             No     No   \n",
       "3      Almond Joy       Yes     No      No            Yes     No   \n",
       "4       Baby Ruth       Yes     No     Yes            Yes    Yes   \n",
       "\n",
       "   crispedricewafer hard  bar pluribus  sugarpercent  pricepercent  winpercent  \n",
       "id                                                                              \n",
       "0               Yes   No  Yes       No         0.732         0.860   66.971725  \n",
       "1                No   No  Yes       No         0.604         0.511   67.602936  \n",
       "2                No   No   No       No         0.906         0.511   52.341465  \n",
       "3                No   No  Yes       No         0.465         0.767   50.347546  \n",
       "4                No   No  Yes       No         0.604         0.767   56.914547  "
      ]
     },
     "execution_count": 5,
     "metadata": {},
     "output_type": "execute_result"
    }
   ],
   "source": [
    "# Print the first five rows of the data\n",
    "# Your code here\n",
    "candy_data.head()"
   ]
  },
  {
   "cell_type": "markdown",
   "id": "b9237163",
   "metadata": {
    "papermill": {
     "duration": 0.037663,
     "end_time": "2022-05-13T19:00:27.073072",
     "exception": false,
     "start_time": "2022-05-13T19:00:27.035409",
     "status": "completed"
    },
    "tags": []
   },
   "source": [
    "The dataset contains 83 rows, where each corresponds to a different candy bar.  There are 13 columns:\n",
    "- `'competitorname'` contains the name of the candy bar. \n",
    "- the next **9** columns (from `'chocolate'` to `'pluribus'`) describe the candy.  For instance, rows with chocolate candies have `\"Yes\"` in the `'chocolate'` column (and candies without chocolate have `\"No\"` in the same column).\n",
    "- `'sugarpercent'` provides some indication of the amount of sugar, where higher values signify higher sugar content.\n",
    "- `'pricepercent'` shows the price per unit, relative to the other candies in the dataset.\n",
    "- `'winpercent'` is calculated from the survey results; higher values indicate that the candy was more popular with survey respondents.\n",
    "\n",
    "Use the first five rows of the data to answer the questions below."
   ]
  },
  {
   "cell_type": "code",
   "execution_count": 6,
   "id": "8eb70ca6",
   "metadata": {
    "execution": {
     "iopub.execute_input": "2022-05-13T19:00:27.151510Z",
     "iopub.status.busy": "2022-05-13T19:00:27.150580Z",
     "iopub.status.idle": "2022-05-13T19:00:27.159374Z",
     "shell.execute_reply": "2022-05-13T19:00:27.158497Z"
    },
    "papermill": {
     "duration": 0.049728,
     "end_time": "2022-05-13T19:00:27.161230",
     "exception": false,
     "start_time": "2022-05-13T19:00:27.111502",
     "status": "completed"
    },
    "tags": []
   },
   "outputs": [
    {
     "data": {
      "application/javascript": [
       "parent.postMessage({\"jupyterEvent\": \"custom.exercise_interaction\", \"data\": {\"outcomeType\": 1, \"valueTowardsCompletion\": 0.3333333333333333, \"interactionType\": 1, \"questionType\": 1, \"questionId\": \"2_ReviewData\", \"learnToolsVersion\": \"0.3.4\", \"failureMessage\": \"\", \"exceptionClass\": \"\", \"trace\": \"\"}}, \"*\")"
      ],
      "text/plain": [
       "<IPython.core.display.Javascript object>"
      ]
     },
     "metadata": {},
     "output_type": "display_data"
    },
    {
     "data": {
      "text/markdown": [
       "<span style=\"color:#33cc33\">Correct</span>"
      ],
      "text/plain": [
       "Correct"
      ]
     },
     "metadata": {},
     "output_type": "display_data"
    }
   ],
   "source": [
    "# Fill in the line below: Which candy was more popular with survey respondents:\n",
    "# '3 Musketeers' or 'Almond Joy'?  (Please enclose your answer in single quotes.)\n",
    "more_popular = '3 Musketeers'\n",
    "candy_data\n",
    "# Fill in the line below: Which candy has higher sugar content: 'Air Heads'\n",
    "# or 'Baby Ruth'? (Please enclose your answer in single quotes.)\n",
    "more_sugar = 'Air Heads'\n",
    "\n",
    "# Check your answers\n",
    "step_2.check()"
   ]
  },
  {
   "cell_type": "code",
   "execution_count": 7,
   "id": "cc8d1796",
   "metadata": {
    "execution": {
     "iopub.execute_input": "2022-05-13T19:00:27.242395Z",
     "iopub.status.busy": "2022-05-13T19:00:27.241573Z",
     "iopub.status.idle": "2022-05-13T19:00:27.246055Z",
     "shell.execute_reply": "2022-05-13T19:00:27.245104Z"
    },
    "papermill": {
     "duration": 0.047288,
     "end_time": "2022-05-13T19:00:27.248425",
     "exception": false,
     "start_time": "2022-05-13T19:00:27.201137",
     "status": "completed"
    },
    "tags": []
   },
   "outputs": [],
   "source": [
    "# Lines below will give you a hint or solution code\n",
    "#step_2.hint()\n",
    "#step_2.solution()"
   ]
  },
  {
   "cell_type": "markdown",
   "id": "6e15de03",
   "metadata": {
    "papermill": {
     "duration": 0.039121,
     "end_time": "2022-05-13T19:00:27.327366",
     "exception": false,
     "start_time": "2022-05-13T19:00:27.288245",
     "status": "completed"
    },
    "tags": []
   },
   "source": [
    "## Step 3: The role of sugar\n",
    "\n",
    "Do people tend to prefer candies with higher sugar content?  \n",
    "\n",
    "#### Part A\n",
    "\n",
    "Create a scatter plot that shows the relationship between `'sugarpercent'` (on the horizontal x-axis) and `'winpercent'` (on the vertical y-axis).  _Don't add a regression line just yet -- you'll do that in the next step!_"
   ]
  },
  {
   "cell_type": "code",
   "execution_count": 8,
   "id": "0e4fd825",
   "metadata": {
    "execution": {
     "iopub.execute_input": "2022-05-13T19:00:27.407163Z",
     "iopub.status.busy": "2022-05-13T19:00:27.406896Z",
     "iopub.status.idle": "2022-05-13T19:00:27.613157Z",
     "shell.execute_reply": "2022-05-13T19:00:27.612185Z"
    },
    "papermill": {
     "duration": 0.249046,
     "end_time": "2022-05-13T19:00:27.615538",
     "exception": false,
     "start_time": "2022-05-13T19:00:27.366492",
     "status": "completed"
    },
    "tags": []
   },
   "outputs": [
    {
     "data": {
      "application/javascript": [
       "parent.postMessage({\"jupyterEvent\": \"custom.exercise_interaction\", \"data\": {\"outcomeType\": 1, \"valueTowardsCompletion\": 0.3333333333333333, \"interactionType\": 1, \"questionType\": 2, \"questionId\": \"3.1_PlotBlueScatter\", \"learnToolsVersion\": \"0.3.4\", \"failureMessage\": \"\", \"exceptionClass\": \"\", \"trace\": \"\"}}, \"*\")"
      ],
      "text/plain": [
       "<IPython.core.display.Javascript object>"
      ]
     },
     "metadata": {},
     "output_type": "display_data"
    },
    {
     "data": {
      "text/markdown": [
       "<span style=\"color:#33cc33\">Correct</span>"
      ],
      "text/plain": [
       "Correct"
      ]
     },
     "metadata": {},
     "output_type": "display_data"
    },
    {
     "data": {
      "image/png": "[encoded data removed]",
      "text/plain": [
       "<Figure size 432x288 with 1 Axes>"
      ]
     },
     "metadata": {
      "needs_background": "light"
     },
     "output_type": "display_data"
    }
   ],
   "source": [
    "# Scatter plot showing the relationship between 'sugarpercent' and 'winpercent'\n",
    "# Your code here\n",
    "sns.scatterplot(x=candy_data['sugarpercent'], y=candy_data['winpercent'])\n",
    "# Check your answer\n",
    "step_3.a.check()"
   ]
  },
  {
   "cell_type": "code",
   "execution_count": 9,
   "id": "18bd0d28",
   "metadata": {
    "execution": {
     "iopub.execute_input": "2022-05-13T19:00:27.700121Z",
     "iopub.status.busy": "2022-05-13T19:00:27.699530Z",
     "iopub.status.idle": "2022-05-13T19:00:27.703214Z",
     "shell.execute_reply": "2022-05-13T19:00:27.702423Z"
    },
    "papermill": {
     "duration": 0.048401,
     "end_time": "2022-05-13T19:00:27.705251",
     "exception": false,
     "start_time": "2022-05-13T19:00:27.656850",
     "status": "completed"
    },
    "tags": []
   },
   "outputs": [],
   "source": [
    "# Lines below will give you a hint or solution code\n",
    "#step_3.a.hint()\n",
    "#step_3.a.solution_plot()"
   ]
  },
  {
   "cell_type": "markdown",
   "id": "9922227f",
   "metadata": {
    "papermill": {
     "duration": 0.04118,
     "end_time": "2022-05-13T19:00:27.789025",
     "exception": false,
     "start_time": "2022-05-13T19:00:27.747845",
     "status": "completed"
    },
    "tags": []
   },
   "source": [
    "#### Part B\n",
    "\n",
    "Does the scatter plot show a **strong** correlation between the two variables?  If so, are candies with more sugar relatively more or less popular with the survey respondents?"
   ]
  },
  {
   "cell_type": "code",
   "execution_count": 10,
   "id": "f8547f31",
   "metadata": {
    "execution": {
     "iopub.execute_input": "2022-05-13T19:00:27.874360Z",
     "iopub.status.busy": "2022-05-13T19:00:27.873851Z",
     "iopub.status.idle": "2022-05-13T19:00:27.877489Z",
     "shell.execute_reply": "2022-05-13T19:00:27.876561Z"
    },
    "papermill": {
     "duration": 0.04901,
     "end_time": "2022-05-13T19:00:27.879588",
     "exception": false,
     "start_time": "2022-05-13T19:00:27.830578",
     "status": "completed"
    },
    "tags": []
   },
   "outputs": [],
   "source": [
    "#The scatter plot does not show a strong correlation between the two variables. Since there is no clear relationship between the two variables, \n",
    "#this tells us that sugar content does not play a strong role in candy popularity.\n",
    "#step_3.b.hint()"
   ]
  },
  {
   "cell_type": "code",
   "execution_count": 11,
   "id": "255be342",
   "metadata": {
    "execution": {
     "iopub.execute_input": "2022-05-13T19:00:27.965179Z",
     "iopub.status.busy": "2022-05-13T19:00:27.964660Z",
     "iopub.status.idle": "2022-05-13T19:00:27.971006Z",
     "shell.execute_reply": "2022-05-13T19:00:27.970225Z"
    },
    "papermill": {
     "duration": 0.051603,
     "end_time": "2022-05-13T19:00:27.973460",
     "exception": false,
     "start_time": "2022-05-13T19:00:27.921857",
     "status": "completed"
    },
    "tags": []
   },
   "outputs": [
    {
     "data": {
      "application/javascript": [
       "parent.postMessage({\"jupyterEvent\": \"custom.exercise_interaction\", \"data\": {\"interactionType\": 3, \"questionType\": 4, \"questionId\": \"3.2_ThinkBlueScatter\", \"learnToolsVersion\": \"0.3.4\", \"valueTowardsCompletion\": 0.0, \"failureMessage\": \"\", \"exceptionClass\": \"\", \"trace\": \"\", \"outcomeType\": 4}}, \"*\")"
      ],
      "text/plain": [
       "<IPython.core.display.Javascript object>"
      ]
     },
     "metadata": {},
     "output_type": "display_data"
    },
    {
     "data": {
      "text/markdown": [
       "<span style=\"color:#33cc99\">Solution:</span> The scatter plot does not show a strong correlation between the two variables. Since there is no clear relationship between the two variables, this tells us that sugar content does not play a strong role in candy popularity."
      ],
      "text/plain": [
       "Solution: The scatter plot does not show a strong correlation between the two variables. Since there is no clear relationship between the two variables, this tells us that sugar content does not play a strong role in candy popularity."
      ]
     },
     "metadata": {},
     "output_type": "display_data"
    }
   ],
   "source": [
    "# Check your answer (Run this code cell to receive credit!)\n",
    "step_3.b.solution()"
   ]
  },
  {
   "cell_type": "markdown",
   "id": "9d3986fa",
   "metadata": {
    "papermill": {
     "duration": 0.045018,
     "end_time": "2022-05-13T19:00:28.061966",
     "exception": false,
     "start_time": "2022-05-13T19:00:28.016948",
     "status": "completed"
    },
    "tags": []
   },
   "source": [
    "## Step 4: Take a closer look\n",
    "\n",
    "#### Part A\n",
    "\n",
    "Create the same scatter plot you created in **Step 3**, but now with a regression line!"
   ]
  },
  {
   "cell_type": "code",
   "execution_count": 12,
   "id": "91417bc9",
   "metadata": {
    "execution": {
     "iopub.execute_input": "2022-05-13T19:00:28.150152Z",
     "iopub.status.busy": "2022-05-13T19:00:28.149865Z",
     "iopub.status.idle": "2022-05-13T19:00:28.460179Z",
     "shell.execute_reply": "2022-05-13T19:00:28.459054Z"
    },
    "papermill": {
     "duration": 0.356831,
     "end_time": "2022-05-13T19:00:28.462584",
     "exception": false,
     "start_time": "2022-05-13T19:00:28.105753",
     "status": "completed"
    },
    "tags": []
   },
   "outputs": [
    {
     "data": {
      "application/javascript": [
       "parent.postMessage({\"jupyterEvent\": \"custom.exercise_interaction\", \"data\": {\"outcomeType\": 1, \"valueTowardsCompletion\": 0.3333333333333333, \"interactionType\": 1, \"questionType\": 2, \"questionId\": \"4.1_PlotBlueReg\", \"learnToolsVersion\": \"0.3.4\", \"failureMessage\": \"\", \"exceptionClass\": \"\", \"trace\": \"\"}}, \"*\")"
      ],
      "text/plain": [
       "<IPython.core.display.Javascript object>"
      ]
     },
     "metadata": {},
     "output_type": "display_data"
    },
    {
     "data": {
      "text/markdown": [
       "<span style=\"color:#33cc33\">Correct</span>"
      ],
      "text/plain": [
       "Correct"
      ]
     },
     "metadata": {},
     "output_type": "display_data"
    },
    {
     "data": {
      "image/png": "[encoded data removed]",
      "text/plain": [
       "<Figure size 432x288 with 1 Axes>"
      ]
     },
     "metadata": {
      "needs_background": "light"
     },
     "output_type": "display_data"
    }
   ],
   "source": [
    "# Scatter plot w/ regression line showing the relationship between 'sugarpercent' and 'winpercent'\n",
    "# Your code here\n",
    "sns.regplot(x=candy_data['sugarpercent'], y=candy_data['winpercent'])\n",
    "# Check your answer\n",
    "step_4.a.check()"
   ]
  },
  {
   "cell_type": "code",
   "execution_count": 13,
   "id": "d93d8251",
   "metadata": {
    "execution": {
     "iopub.execute_input": "2022-05-13T19:00:28.554693Z",
     "iopub.status.busy": "2022-05-13T19:00:28.554271Z",
     "iopub.status.idle": "2022-05-13T19:00:28.557659Z",
     "shell.execute_reply": "2022-05-13T19:00:28.557073Z"
    },
    "papermill": {
     "duration": 0.051649,
     "end_time": "2022-05-13T19:00:28.559634",
     "exception": false,
     "start_time": "2022-05-13T19:00:28.507985",
     "status": "completed"
    },
    "tags": []
   },
   "outputs": [],
   "source": [
    "# Lines below will give you a hint or solution code\n",
    "#step_4.a.hint()\n",
    "#step_4.a.solution_plot()"
   ]
  },
  {
   "cell_type": "markdown",
   "id": "a850c22b",
   "metadata": {
    "papermill": {
     "duration": 0.044934,
     "end_time": "2022-05-13T19:00:28.649588",
     "exception": false,
     "start_time": "2022-05-13T19:00:28.604654",
     "status": "completed"
    },
    "tags": []
   },
   "source": [
    "#### Part B\n",
    "\n",
    "According to the plot above, is there a **slight** correlation between `'winpercent'` and `'sugarpercent'`?  What does this tell you about the candy that people tend to prefer?"
   ]
  },
  {
   "cell_type": "code",
   "execution_count": 14,
   "id": "cacfcd60",
   "metadata": {
    "execution": {
     "iopub.execute_input": "2022-05-13T19:00:28.741065Z",
     "iopub.status.busy": "2022-05-13T19:00:28.740228Z",
     "iopub.status.idle": "2022-05-13T19:00:28.744142Z",
     "shell.execute_reply": "2022-05-13T19:00:28.743329Z"
    },
    "papermill": {
     "duration": 0.051866,
     "end_time": "2022-05-13T19:00:28.746160",
     "exception": false,
     "start_time": "2022-05-13T19:00:28.694294",
     "status": "completed"
    },
    "tags": []
   },
   "outputs": [],
   "source": [
    "#Since the regression line has a slightly positive slope, this tells us that there is a slightly positive correlation between 'winpercent' and 'sugarpercent'. \n",
    "#Thus, people have a slight preference for candies containing relatively more sugar.\n",
    "#step_4.b.hint()"
   ]
  },
  {
   "cell_type": "code",
   "execution_count": 15,
   "id": "975d85df",
   "metadata": {
    "execution": {
     "iopub.execute_input": "2022-05-13T19:00:28.837999Z",
     "iopub.status.busy": "2022-05-13T19:00:28.837471Z",
     "iopub.status.idle": "2022-05-13T19:00:28.843724Z",
     "shell.execute_reply": "2022-05-13T19:00:28.843097Z"
    },
    "papermill": {
     "duration": 0.055085,
     "end_time": "2022-05-13T19:00:28.845683",
     "exception": false,
     "start_time": "2022-05-13T19:00:28.790598",
     "status": "completed"
    },
    "tags": []
   },
   "outputs": [
    {
     "data": {
      "application/javascript": [
       "parent.postMessage({\"jupyterEvent\": \"custom.exercise_interaction\", \"data\": {\"interactionType\": 3, \"questionType\": 4, \"questionId\": \"4.2_ThinkBlueReg\", \"learnToolsVersion\": \"0.3.4\", \"valueTowardsCompletion\": 0.0, \"failureMessage\": \"\", \"exceptionClass\": \"\", \"trace\": \"\", \"outcomeType\": 4}}, \"*\")"
      ],
      "text/plain": [
       "<IPython.core.display.Javascript object>"
      ]
     },
     "metadata": {},
     "output_type": "display_data"
    },
    {
     "data": {
      "text/markdown": [
       "<span style=\"color:#33cc99\">Solution:</span> Since the regression line has a slightly positive slope, this tells us that there is a slightly positive correlation between `'winpercent'` and `'sugarpercent'`. Thus, people have a slight preference for candies containing relatively more sugar."
      ],
      "text/plain": [
       "Solution: Since the regression line has a slightly positive slope, this tells us that there is a slightly positive correlation between `'winpercent'` and `'sugarpercent'`. Thus, people have a slight preference for candies containing relatively more sugar."
      ]
     },
     "metadata": {},
     "output_type": "display_data"
    }
   ],
   "source": [
    "# Check your answer (Run this code cell to receive credit!)\n",
    "step_4.b.solution()"
   ]
  },
  {
   "cell_type": "markdown",
   "id": "65b97a49",
   "metadata": {
    "papermill": {
     "duration": 0.045479,
     "end_time": "2022-05-13T19:00:28.938097",
     "exception": false,
     "start_time": "2022-05-13T19:00:28.892618",
     "status": "completed"
    },
    "tags": []
   },
   "source": [
    "## Step 5: Chocolate!\n",
    "\n",
    "In the code cell below, create a scatter plot to show the relationship between `'pricepercent'` (on the horizontal x-axis) and `'winpercent'` (on the vertical y-axis). Use the `'chocolate'` column to color-code the points.  _Don't add any regression lines just yet -- you'll do that in the next step!_"
   ]
  },
  {
   "cell_type": "code",
   "execution_count": 16,
   "id": "e7120ffa",
   "metadata": {
    "execution": {
     "iopub.execute_input": "2022-05-13T19:00:29.033240Z",
     "iopub.status.busy": "2022-05-13T19:00:29.032555Z",
     "iopub.status.idle": "2022-05-13T19:00:29.293124Z",
     "shell.execute_reply": "2022-05-13T19:00:29.292181Z"
    },
    "papermill": {
     "duration": 0.3109,
     "end_time": "2022-05-13T19:00:29.295336",
     "exception": false,
     "start_time": "2022-05-13T19:00:28.984436",
     "status": "completed"
    },
    "tags": []
   },
   "outputs": [
    {
     "data": {
      "application/javascript": [
       "parent.postMessage({\"jupyterEvent\": \"custom.exercise_interaction\", \"data\": {\"outcomeType\": 1, \"valueTowardsCompletion\": 0.3333333333333333, \"interactionType\": 1, \"questionType\": 2, \"questionId\": \"5_ColorScatter\", \"learnToolsVersion\": \"0.3.4\", \"failureMessage\": \"\", \"exceptionClass\": \"\", \"trace\": \"\"}}, \"*\")"
      ],
      "text/plain": [
       "<IPython.core.display.Javascript object>"
      ]
     },
     "metadata": {},
     "output_type": "display_data"
    },
    {
     "data": {
      "text/markdown": [
       "<span style=\"color:#33cc33\">Correct</span>"
      ],
      "text/plain": [
       "Correct"
      ]
     },
     "metadata": {},
     "output_type": "display_data"
    },
    {
     "data": {
      "image/png": "[encoded data removed]",
      "text/plain": [
       "<Figure size 432x288 with 1 Axes>"
      ]
     },
     "metadata": {
      "needs_background": "light"
     },
     "output_type": "display_data"
    }
   ],
   "source": [
    "# Scatter plot showing the relationship between 'pricepercent', 'winpercent', and 'chocolate'\n",
    "# Your code here\n",
    "sns.scatterplot(x=candy_data['sugarpercent'], y=candy_data['winpercent'],hue=candy_data['chocolate'])\n",
    "# Check your answer\n",
    "step_5.check()"
   ]
  },
  {
   "cell_type": "code",
   "execution_count": 17,
   "id": "52ef72f7",
   "metadata": {
    "execution": {
     "iopub.execute_input": "2022-05-13T19:00:29.395242Z",
     "iopub.status.busy": "2022-05-13T19:00:29.394522Z",
     "iopub.status.idle": "2022-05-13T19:00:29.397918Z",
     "shell.execute_reply": "2022-05-13T19:00:29.397289Z"
    },
    "papermill": {
     "duration": 0.055362,
     "end_time": "2022-05-13T19:00:29.399829",
     "exception": false,
     "start_time": "2022-05-13T19:00:29.344467",
     "status": "completed"
    },
    "tags": []
   },
   "outputs": [],
   "source": [
    "# Lines below will give you a hint or solution code\n",
    "#step_5.hint()\n",
    "#step_5.solution_plot()"
   ]
  },
  {
   "cell_type": "markdown",
   "id": "4713b2fa",
   "metadata": {
    "papermill": {
     "duration": 0.047889,
     "end_time": "2022-05-13T19:00:29.497842",
     "exception": false,
     "start_time": "2022-05-13T19:00:29.449953",
     "status": "completed"
    },
    "tags": []
   },
   "source": [
    "Can you see any interesting patterns in the scatter plot?  We'll investigate this plot further  by adding regression lines in the next step!\n",
    "\n",
    "## Step 6: Investigate chocolate\n",
    "\n",
    "#### Part A\n",
    "\n",
    "Create the same scatter plot you created in **Step 5**, but now with two regression lines, corresponding to (1) chocolate candies and (2) candies without chocolate."
   ]
  },
  {
   "cell_type": "code",
   "execution_count": 18,
   "id": "423ddaea",
   "metadata": {
    "execution": {
     "iopub.execute_input": "2022-05-13T19:00:29.595836Z",
     "iopub.status.busy": "2022-05-13T19:00:29.595294Z",
     "iopub.status.idle": "2022-05-13T19:00:30.227460Z",
     "shell.execute_reply": "2022-05-13T19:00:30.226542Z"
    },
    "papermill": {
     "duration": 0.684204,
     "end_time": "2022-05-13T19:00:30.229968",
     "exception": false,
     "start_time": "2022-05-13T19:00:29.545764",
     "status": "completed"
    },
    "tags": []
   },
   "outputs": [
    {
     "data": {
      "application/javascript": [
       "parent.postMessage({\"jupyterEvent\": \"custom.exercise_interaction\", \"data\": {\"outcomeType\": 1, \"valueTowardsCompletion\": 0.3333333333333333, \"interactionType\": 1, \"questionType\": 2, \"questionId\": \"6.1_PlotColorReg\", \"learnToolsVersion\": \"0.3.4\", \"failureMessage\": \"\", \"exceptionClass\": \"\", \"trace\": \"\"}}, \"*\")"
      ],
      "text/plain": [
       "<IPython.core.display.Javascript object>"
      ]
     },
     "metadata": {},
     "output_type": "display_data"
    },
    {
     "data": {
      "text/markdown": [
       "<span style=\"color:#33cc33\">Correct</span>"
      ],
      "text/plain": [
       "Correct"
      ]
     },
     "metadata": {},
     "output_type": "display_data"
    },
    {
     "data": {
      "image/png": "[encoded data removed]",
      "text/plain": [
       "<Figure size 416.375x360 with 1 Axes>"
      ]
     },
     "metadata": {
      "needs_background": "light"
     },
     "output_type": "display_data"
    }
   ],
   "source": [
    "# Color-coded scatter plot w/ regression lines\n",
    "# Your code here\n",
    "sns.lmplot(x='pricepercent', y='winpercent', hue= 'chocolate', data = candy_data)\n",
    "# Check your answer\n",
    "step_6.a.check()"
   ]
  },
  {
   "cell_type": "code",
   "execution_count": 19,
   "id": "354a1b8e",
   "metadata": {
    "execution": {
     "iopub.execute_input": "2022-05-13T19:00:30.334350Z",
     "iopub.status.busy": "2022-05-13T19:00:30.334054Z",
     "iopub.status.idle": "2022-05-13T19:00:30.342507Z",
     "shell.execute_reply": "2022-05-13T19:00:30.341468Z"
    },
    "papermill": {
     "duration": 0.06314,
     "end_time": "2022-05-13T19:00:30.344681",
     "exception": false,
     "start_time": "2022-05-13T19:00:30.281541",
     "status": "completed"
    },
    "tags": []
   },
   "outputs": [
    {
     "data": {
      "application/javascript": [
       "parent.postMessage({\"jupyterEvent\": \"custom.exercise_interaction\", \"data\": {\"interactionType\": 2, \"questionType\": 2, \"questionId\": \"6.1_PlotColorReg\", \"learnToolsVersion\": \"0.3.4\", \"valueTowardsCompletion\": 0.0, \"failureMessage\": \"\", \"exceptionClass\": \"\", \"trace\": \"\", \"outcomeType\": 4}}, \"*\")"
      ],
      "text/plain": [
       "<IPython.core.display.Javascript object>"
      ]
     },
     "metadata": {},
     "output_type": "display_data"
    },
    {
     "data": {
      "text/markdown": [
       "<span style=\"color:#3366cc\">Hint:</span> Use `sns.lmplot`, and set the variables for the x-axis, y-axis, color of the points, and the dataset by using `x=`, `y=`, `hue=`, and `data=`, respectively."
      ],
      "text/plain": [
       "Hint: Use `sns.lmplot`, and set the variables for the x-axis, y-axis, color of the points, and the dataset by using `x=`, `y=`, `hue=`, and `data=`, respectively."
      ]
     },
     "metadata": {},
     "output_type": "display_data"
    }
   ],
   "source": [
    "# Lines below will give you a hint or solution code\n",
    "step_6.a.hint()\n",
    "#step_6.a.solution_plot()"
   ]
  },
  {
   "cell_type": "markdown",
   "id": "19fe4881",
   "metadata": {
    "papermill": {
     "duration": 0.053459,
     "end_time": "2022-05-13T19:00:30.451539",
     "exception": false,
     "start_time": "2022-05-13T19:00:30.398080",
     "status": "completed"
    },
    "tags": []
   },
   "source": [
    "#### Part B\n",
    "\n",
    "Using the regression lines, what conclusions can you draw about the effects of chocolate and price on candy popularity?"
   ]
  },
  {
   "cell_type": "code",
   "execution_count": 20,
   "id": "718a4d61",
   "metadata": {
    "execution": {
     "iopub.execute_input": "2022-05-13T19:00:30.557746Z",
     "iopub.status.busy": "2022-05-13T19:00:30.557439Z",
     "iopub.status.idle": "2022-05-13T19:00:30.561280Z",
     "shell.execute_reply": "2022-05-13T19:00:30.560653Z"
    },
    "papermill": {
     "duration": 0.059391,
     "end_time": "2022-05-13T19:00:30.563032",
     "exception": false,
     "start_time": "2022-05-13T19:00:30.503641",
     "status": "completed"
    },
    "tags": []
   },
   "outputs": [],
   "source": [
    "#step_6.b.hint()"
   ]
  },
  {
   "cell_type": "code",
   "execution_count": 21,
   "id": "a71a3d75",
   "metadata": {
    "execution": {
     "iopub.execute_input": "2022-05-13T19:00:30.669717Z",
     "iopub.status.busy": "2022-05-13T19:00:30.668912Z",
     "iopub.status.idle": "2022-05-13T19:00:30.675822Z",
     "shell.execute_reply": "2022-05-13T19:00:30.675190Z"
    },
    "papermill": {
     "duration": 0.062275,
     "end_time": "2022-05-13T19:00:30.677626",
     "exception": false,
     "start_time": "2022-05-13T19:00:30.615351",
     "status": "completed"
    },
    "tags": []
   },
   "outputs": [
    {
     "data": {
      "application/javascript": [
       "parent.postMessage({\"jupyterEvent\": \"custom.exercise_interaction\", \"data\": {\"interactionType\": 3, \"questionType\": 4, \"questionId\": \"6.2_ThinkColorReg\", \"learnToolsVersion\": \"0.3.4\", \"valueTowardsCompletion\": 0.0, \"failureMessage\": \"\", \"exceptionClass\": \"\", \"trace\": \"\", \"outcomeType\": 4}}, \"*\")"
      ],
      "text/plain": [
       "<IPython.core.display.Javascript object>"
      ]
     },
     "metadata": {},
     "output_type": "display_data"
    },
    {
     "data": {
      "text/markdown": [
       "<span style=\"color:#33cc99\">Solution:</span> We'll begin with the regression line for chocolate candies. Since this line has a slightly positive slope, we can say that more expensive chocolate candies tend to be more popular (than relatively cheaper chocolate candies).  Likewise, since the regression line for candies without chocolate has a negative slope, we can say that if candies don't contain chocolate, they tend to be more popular when they are cheaper.  One important note, however, is that the dataset is quite small -- so we shouldn't invest too much trust in these patterns!  To inspire more confidence in the results, we should add more candies to the dataset."
      ],
      "text/plain": [
       "Solution: We'll begin with the regression line for chocolate candies. Since this line has a slightly positive slope, we can say that more expensive chocolate candies tend to be more popular (than relatively cheaper chocolate candies).  Likewise, since the regression line for candies without chocolate has a negative slope, we can say that if candies don't contain chocolate, they tend to be more popular when they are cheaper.  One important note, however, is that the dataset is quite small -- so we shouldn't invest too much trust in these patterns!  To inspire more confidence in the results, we should add more candies to the dataset."
      ]
     },
     "metadata": {},
     "output_type": "display_data"
    }
   ],
   "source": [
    "# Check your answer (Run this code cell to receive credit!)\n",
    "step_6.b.solution()"
   ]
  },
  {
   "cell_type": "markdown",
   "id": "7d7026d8",
   "metadata": {
    "papermill": {
     "duration": 0.052794,
     "end_time": "2022-05-13T19:00:30.783482",
     "exception": false,
     "start_time": "2022-05-13T19:00:30.730688",
     "status": "completed"
    },
    "tags": []
   },
   "source": [
    "## Step 7: Everybody loves chocolate.\n",
    "\n",
    "#### Part A\n",
    "\n",
    "Create a categorical scatter plot to highlight the relationship between `'chocolate'` and `'winpercent'`.  Put `'chocolate'` on the (horizontal) x-axis, and `'winpercent'` on the (vertical) y-axis."
   ]
  },
  {
   "cell_type": "code",
   "execution_count": 22,
   "id": "8d198416",
   "metadata": {
    "execution": {
     "iopub.execute_input": "2022-05-13T19:00:30.894744Z",
     "iopub.status.busy": "2022-05-13T19:00:30.894172Z",
     "iopub.status.idle": "2022-05-13T19:00:31.081271Z",
     "shell.execute_reply": "2022-05-13T19:00:31.080384Z"
    },
    "papermill": {
     "duration": 0.245043,
     "end_time": "2022-05-13T19:00:31.083416",
     "exception": false,
     "start_time": "2022-05-13T19:00:30.838373",
     "status": "completed"
    },
    "tags": []
   },
   "outputs": [
    {
     "data": {
      "application/javascript": [
       "parent.postMessage({\"jupyterEvent\": \"custom.exercise_interaction\", \"data\": {\"outcomeType\": 1, \"valueTowardsCompletion\": 0.3333333333333333, \"interactionType\": 1, \"questionType\": 2, \"questionId\": \"7.1_PlotSwarm\", \"learnToolsVersion\": \"0.3.4\", \"failureMessage\": \"\", \"exceptionClass\": \"\", \"trace\": \"\"}}, \"*\")"
      ],
      "text/plain": [
       "<IPython.core.display.Javascript object>"
      ]
     },
     "metadata": {},
     "output_type": "display_data"
    },
    {
     "data": {
      "text/markdown": [
       "<span style=\"color:#33cc33\">Correct</span>"
      ],
      "text/plain": [
       "Correct"
      ]
     },
     "metadata": {},
     "output_type": "display_data"
    },
    {
     "data": {
      "image/png": "[encoded data removed]",
      "text/plain": [
       "<Figure size 432x288 with 1 Axes>"
      ]
     },
     "metadata": {
      "needs_background": "light"
     },
     "output_type": "display_data"
    }
   ],
   "source": [
    "# Scatter plot showing the relationship between 'chocolate' and 'winpercent'\n",
    "# Your code here\n",
    "sns.swarmplot(x=candy_data['chocolate'], y=candy_data['winpercent'])\n",
    "# Check your answer\n",
    "step_7.a.check()"
   ]
  },
  {
   "cell_type": "code",
   "execution_count": 23,
   "id": "602a6272",
   "metadata": {
    "execution": {
     "iopub.execute_input": "2022-05-13T19:00:31.207311Z",
     "iopub.status.busy": "2022-05-13T19:00:31.206809Z",
     "iopub.status.idle": "2022-05-13T19:00:31.210379Z",
     "shell.execute_reply": "2022-05-13T19:00:31.209737Z"
    },
    "papermill": {
     "duration": 0.061765,
     "end_time": "2022-05-13T19:00:31.212124",
     "exception": false,
     "start_time": "2022-05-13T19:00:31.150359",
     "status": "completed"
    },
    "tags": []
   },
   "outputs": [],
   "source": [
    "# Lines below will give you a hint or solution code\n",
    "#step_7.a.hint()\n",
    "#step_7.a.solution_plot()"
   ]
  },
  {
   "cell_type": "markdown",
   "id": "7f5df48b",
   "metadata": {
    "papermill": {
     "duration": 0.056097,
     "end_time": "2022-05-13T19:00:31.323745",
     "exception": false,
     "start_time": "2022-05-13T19:00:31.267648",
     "status": "completed"
    },
    "tags": []
   },
   "source": [
    "#### Part B\n",
    "\n",
    "You decide to dedicate a section of your report to the fact that chocolate candies tend to be more popular than candies without chocolate.  Which plot is more appropriate to tell this story: the plot from **Step 6**, or the plot from **Step 7**?"
   ]
  },
  {
   "cell_type": "code",
   "execution_count": 24,
   "id": "4e81b658",
   "metadata": {
    "execution": {
     "iopub.execute_input": "2022-05-13T19:00:31.435881Z",
     "iopub.status.busy": "2022-05-13T19:00:31.435332Z",
     "iopub.status.idle": "2022-05-13T19:00:31.438560Z",
     "shell.execute_reply": "2022-05-13T19:00:31.437877Z"
    },
    "papermill": {
     "duration": 0.061605,
     "end_time": "2022-05-13T19:00:31.440365",
     "exception": false,
     "start_time": "2022-05-13T19:00:31.378760",
     "status": "completed"
    },
    "tags": []
   },
   "outputs": [],
   "source": [
    "#step_7.b.hint()"
   ]
  },
  {
   "cell_type": "code",
   "execution_count": 25,
   "id": "9675364e",
   "metadata": {
    "execution": {
     "iopub.execute_input": "2022-05-13T19:00:31.556609Z",
     "iopub.status.busy": "2022-05-13T19:00:31.555444Z",
     "iopub.status.idle": "2022-05-13T19:00:31.562424Z",
     "shell.execute_reply": "2022-05-13T19:00:31.561820Z"
    },
    "papermill": {
     "duration": 0.066506,
     "end_time": "2022-05-13T19:00:31.564254",
     "exception": false,
     "start_time": "2022-05-13T19:00:31.497748",
     "status": "completed"
    },
    "tags": []
   },
   "outputs": [
    {
     "data": {
      "application/javascript": [
       "parent.postMessage({\"jupyterEvent\": \"custom.exercise_interaction\", \"data\": {\"interactionType\": 3, \"questionType\": 4, \"questionId\": \"7.2_ThinkSwarm\", \"learnToolsVersion\": \"0.3.4\", \"valueTowardsCompletion\": 0.0, \"failureMessage\": \"\", \"exceptionClass\": \"\", \"trace\": \"\", \"outcomeType\": 4}}, \"*\")"
      ],
      "text/plain": [
       "<IPython.core.display.Javascript object>"
      ]
     },
     "metadata": {},
     "output_type": "display_data"
    },
    {
     "data": {
      "text/markdown": [
       "<span style=\"color:#33cc99\">Solution:</span> In this case, the categorical scatter plot from **Step 7** is the more appropriate plot. While both plots tell the desired story, the plot from **Step 6** conveys far more information that could distract from the main point."
      ],
      "text/plain": [
       "Solution: In this case, the categorical scatter plot from **Step 7** is the more appropriate plot. While both plots tell the desired story, the plot from **Step 6** conveys far more information that could distract from the main point."
      ]
     },
     "metadata": {},
     "output_type": "display_data"
    }
   ],
   "source": [
    "# Check your answer (Run this code cell to receive credit!)\n",
    "step_7.b.solution()"
   ]
  },
  {
   "cell_type": "markdown",
   "id": "9c91330f",
   "metadata": {
    "papermill": {
     "duration": 0.056727,
     "end_time": "2022-05-13T19:00:31.678286",
     "exception": false,
     "start_time": "2022-05-13T19:00:31.621559",
     "status": "completed"
    },
    "tags": []
   },
   "source": [
    "## Keep going\n",
    "\n",
    "Explore **[histograms and density plots](https://www.kaggle.com/alexisbcook/distributions)**."
   ]
  },
  {
   "cell_type": "markdown",
   "id": "d68ef67e",
   "metadata": {
    "papermill": {
     "duration": 0.057427,
     "end_time": "2022-05-13T19:00:31.792653",
     "exception": false,
     "start_time": "2022-05-13T19:00:31.735226",
     "status": "completed"
    },
    "tags": []
   },
   "source": [
    "---\n",
    "\n",
    "\n",
    "\n",
    "\n",
    "*Have questions or comments? Visit the [course discussion forum](https://www.kaggle.com/learn/data-visualization/discussion) to chat with other learners.*"
   ]
  }
 ],
 "metadata": {
  "kernelspec": {
   "display_name": "Python 3",
   "language": "python",
   "name": "python3"
  },
  "language_info": {
   "codemirror_mode": {
    "name": "ipython",
    "version": 3
   },
   "file_extension": ".py",
   "mimetype": "text/x-python",
   "name": "python",
   "nbconvert_exporter": "python",
   "pygments_lexer": "ipython3",
   "version": "3.7.12"
  },
  "papermill": {
   "default_parameters": {},
   "duration": 17.733922,
   "end_time": "2022-05-13T19:00:32.571869",
   "environment_variables": {},
   "exception": null,
   "input_path": "__notebook__.ipynb",
   "output_path": "__notebook__.ipynb",
   "parameters": {},
   "start_time": "2022-05-13T19:00:14.837947",
   "version": "2.3.4"
  }
 },
 "nbformat": 4,
 "nbformat_minor": 5
}
